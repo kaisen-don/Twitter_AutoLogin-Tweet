{
 "cells": [
  {
   "cell_type": "code",
   "execution_count": null,
   "metadata": {},
   "outputs": [],
   "source": [
    "from selenium import webdriver\n",
    "from selenium.webdriver.common.keys import Keys as keys\n",
    "import time\n",
    "\n",
    "\n",
    "driver = webdriver.Chrome(executable_path=\"ドライブ内のchromedriver.exeまでのパスを入力\")\n",
    "\n",
    "# TwitterのURLにアクセス\n",
    "url = 'https://twitter.com/login'\n",
    "driver.get(url)\n",
    "\n",
    "# ページ表示前に処理が行われないように、7秒スリープ後入力フォームにID・パスワード入力\n",
    "time.sleep(7)\n",
    "username = driver.find_element_by_css_selector('ログイン画面のID部分のパス指定')\n",
    "password = driver.find_element_by_css_selector('ログイン画面のPASSWORD部分のパス指定')\n",
    "\n",
    "username.send_keys('@TwitterID')\n",
    "password.send_keys('PASSWORD')\n",
    "password.send_keys(keys.ENTER)\n",
    "\n",
    "# ログイン前に処理が行われないように、5秒スリープ後ツイートボタンをクリック\n",
    "time.sleep(5)\n",
    "driver.find_element_by_xpath(\"/html/body/div/div/div/div/header/div/div/div/div/div[3]/a\").click()\n",
    "\n",
    "# テキスト入力\n",
    "time.sleep(2)\n",
    "elem = driver.find_element_by_xpath('//*[@role=\"textbox\"]')\n",
    "elem.send_keys(\"ツイートする内容をここに入力\")\n",
    "\n",
    "# ツイートボタン\n",
    "time.sleep(2)\n",
    "elem = driver.find_element_by_xpath('//*[@data-testid=\"tweetButton\"]')\n",
    "elem.click()\n",
    "\n",
    "# ブラウザを閉じる\n",
    "time.sleep(5)\n",
    "driver.quit()"
   ]
  },
  {
   "cell_type": "code",
   "execution_count": null,
   "metadata": {},
   "outputs": [],
   "source": []
  }
 ],
 "metadata": {
  "kernelspec": {
   "display_name": "Python 3",
   "language": "python",
   "name": "python3"
  },
  "language_info": {
   "codemirror_mode": {
    "name": "ipython",
    "version": 3
   },
   "file_extension": ".py",
   "mimetype": "text/x-python",
   "name": "python",
   "nbconvert_exporter": "python",
   "pygments_lexer": "ipython3",
   "version": "3.7.4"
  }
 },
 "nbformat": 4,
 "nbformat_minor": 2
}
